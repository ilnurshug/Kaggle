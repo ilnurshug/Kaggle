{
 "cells": [
  {
   "cell_type": "code",
   "execution_count": 1,
   "metadata": {
    "collapsed": true
   },
   "outputs": [],
   "source": [
    "import tensorflow as tf\n",
    "import pandas as pd\n",
    "import matplotlib.pyplot as plt\n",
    "import numpy as np\n",
    "import warnings\n",
    "warnings.filterwarnings('ignore')\n",
    "%matplotlib inline\n",
    "\n",
    "\n",
    "np.random.seed(0)"
   ]
  },
  {
   "cell_type": "markdown",
   "metadata": {},
   "source": [
    "## Подготовка данных\n",
    "\n",
    "1. Удалим из текста HTML разметку.\n",
    "2. Выполним стэмминг."
   ]
  },
  {
   "cell_type": "code",
   "execution_count": 2,
   "metadata": {
    "collapsed": false
   },
   "outputs": [],
   "source": [
    "train = pd.read_csv(\"labeledTrainData.tsv\", header=0, \n",
    "                    delimiter=\"\\t\", quoting=3)\n",
    "\n",
    "unlabeled_train = pd.read_csv(\"unlabeledTrainData.tsv\", header=0, \n",
    "                              delimiter=\"\\t\", quoting=3)\n",
    "\n",
    "validation = pd.read_csv(\"testData.tsv\", header=0, \n",
    "                         delimiter=\"\\t\", quoting=3)"
   ]
  },
  {
   "cell_type": "code",
   "execution_count": 3,
   "metadata": {
    "collapsed": false
   },
   "outputs": [
    {
     "name": "stdout",
     "output_type": "stream",
     "text": [
      "Index(['id', 'sentiment', 'review'], dtype='object') Index(['id', 'review'], dtype='object') Index(['id', 'review'], dtype='object')\n",
      "(25000, 3) (50000, 2) (25000, 2)\n"
     ]
    }
   ],
   "source": [
    "print(train.columns, unlabeled_train.columns, validation.columns)\n",
    "print(train.shape, unlabeled_train.shape, validation.shape)"
   ]
  },
  {
   "cell_type": "code",
   "execution_count": 4,
   "metadata": {
    "collapsed": false
   },
   "outputs": [
    {
     "data": {
      "text/plain": [
       "(100000,)"
      ]
     },
     "execution_count": 4,
     "metadata": {},
     "output_type": "execute_result"
    }
   ],
   "source": [
    "all_data = pd.concat([train['review'], unlabeled_train['review'], validation['review']], axis=0)\n",
    "all_data.shape"
   ]
  },
  {
   "cell_type": "code",
   "execution_count": 5,
   "metadata": {
    "collapsed": false
   },
   "outputs": [
    {
     "name": "stdout",
     "output_type": "stream",
     "text": [
      "showing info https://raw.githubusercontent.com/nltk/nltk_data/gh-pages/index.xml\n"
     ]
    },
    {
     "data": {
      "text/plain": [
       "True"
      ]
     },
     "execution_count": 5,
     "metadata": {},
     "output_type": "execute_result"
    }
   ],
   "source": [
    "import nltk\n",
    "nltk.download()"
   ]
  },
  {
   "cell_type": "code",
   "execution_count": 6,
   "metadata": {
    "collapsed": true
   },
   "outputs": [],
   "source": [
    "from bs4 import BeautifulSoup  \n",
    "from nltk.corpus import stopwords\n",
    "from nltk.stem.porter import *\n",
    "from nltk.tokenize import RegexpTokenizer\n",
    "\n",
    "\n",
    "stemmer = PorterStemmer()\n",
    "tokenizer = RegexpTokenizer(r'[\\w\\']+')\n",
    "stop_words = set(stopwords.words(\"english\") )\n",
    "\n",
    "\n",
    "def review_to_clean_sentences(raw_review, remove_sw=True):\n",
    "    review_text = BeautifulSoup(raw_review).get_text() \n",
    "    # 1. разбиваем на предложения\n",
    "    review_text = nltk.sent_tokenize(review_text)\n",
    "    # 2. каждое предложение разбиваем на токены\n",
    "    review_text = [tokenizer.tokenize(s) for s in review_text]\n",
    "    # удаляем стоп слова\n",
    "    if remove_sw:\n",
    "        review_text = [ [w for w in s if w.lower() not in stop_words] for s in review_text ]\n",
    "    # 3. приводим к нижнему регистру и выполняем стэмминг\n",
    "    review_text = [ [stemmer.stem(w.lower()) for w in s] for s in review_text ]\n",
    "    \n",
    "    return review_text   "
   ]
  },
  {
   "cell_type": "code",
   "execution_count": 7,
   "metadata": {
    "collapsed": false
   },
   "outputs": [],
   "source": [
    "train_sents = [ review_to_clean_sentences(raw_review) for raw_review in all_data.values]"
   ]
  },
  {
   "cell_type": "markdown",
   "metadata": {},
   "source": [
    "## Word2Vec\n",
    "\n",
    "Построим word2vec модель. Полученные вектора будут использованы далее для обучения предсказательных моделей."
   ]
  },
  {
   "cell_type": "code",
   "execution_count": 8,
   "metadata": {
    "collapsed": true
   },
   "outputs": [],
   "source": [
    "sentences = [s for review in train_sents for s in review]"
   ]
  },
  {
   "cell_type": "code",
   "execution_count": 9,
   "metadata": {
    "collapsed": true
   },
   "outputs": [],
   "source": [
    "num_features = 300    # Word vector dimensionality\n",
    "min_word_count = 40   # Minimum word count\n",
    "num_workers = 4       # Number of threads to run in parallel\n",
    "context = 10          # Context window size\n",
    "downsampling = 1e-3   # Downsample setting for frequent words\n",
    "\n",
    "\n",
    "from gensim.models import word2vec\n",
    "\n",
    "\n",
    "model = word2vec.Word2Vec(sentences, workers=num_workers,\n",
    "                          size=num_features, min_count = min_word_count,\n",
    "                          window = context, sample = downsampling)\n",
    "\n",
    "# If you don't plan to train the model any further, calling\n",
    "# init_sims will make the model much more memory-efficient.\n",
    "model.init_sims(replace=True)\n",
    "\n",
    "# It can be helpful to create a meaningful model name and \n",
    "# save the model for later use. You can load it later using Word2Vec.load()\n",
    "model_name = \"300features_40minwords_10context\"\n",
    "model.save(model_name)"
   ]
  },
  {
   "cell_type": "code",
   "execution_count": 10,
   "metadata": {
    "collapsed": false
   },
   "outputs": [
    {
     "data": {
      "text/plain": [
       "[('terribl', 0.646848201751709),\n",
       " ('horribl', 0.6118679642677307),\n",
       " ('lousi', 0.5955506563186646),\n",
       " ('crappi', 0.5906460881233215),\n",
       " ('good', 0.5836952924728394),\n",
       " ('aw', 0.5729691982269287),\n",
       " ('stupid', 0.5273633003234863),\n",
       " ('suck', 0.5216744542121887),\n",
       " ('atroci', 0.5099819302558899),\n",
       " ('cheesi', 0.5031810998916626)]"
      ]
     },
     "execution_count": 10,
     "metadata": {},
     "output_type": "execute_result"
    }
   ],
   "source": [
    "model.most_similar(\"bad\")"
   ]
  },
  {
   "cell_type": "code",
   "execution_count": 11,
   "metadata": {
    "collapsed": false
   },
   "outputs": [
    {
     "data": {
      "text/plain": [
       "14509"
      ]
     },
     "execution_count": 11,
     "metadata": {},
     "output_type": "execute_result"
    }
   ],
   "source": [
    "vocab_size = len(model.vocab)\n",
    "vocab_size"
   ]
  },
  {
   "cell_type": "code",
   "execution_count": 12,
   "metadata": {
    "collapsed": false
   },
   "outputs": [],
   "source": [
    "word_to_id = dict(zip(model.vocab.keys(), range(vocab_size)))"
   ]
  },
  {
   "cell_type": "code",
   "execution_count": 13,
   "metadata": {
    "collapsed": false
   },
   "outputs": [],
   "source": [
    "PAD = \"<PAD>\"\n",
    "\n",
    "word_to_id[PAD] = vocab_size\n",
    "vocab_size += 1"
   ]
  },
  {
   "cell_type": "markdown",
   "metadata": {},
   "source": [
    "Преобразуем каждое ревью в последовательность слов. Чтобы все ревью имели одинаковую длину делаем padding."
   ]
  },
  {
   "cell_type": "code",
   "execution_count": 14,
   "metadata": {
    "collapsed": true
   },
   "outputs": [],
   "source": [
    "def sentence_to_seq(sentence):\n",
    "    return np.array([word_to_id[w] for w in sentence if w in word_to_id], dtype=int)\n",
    "\n",
    "def review_to_seq(review, max_len):\n",
    "    seq = np.hstack([sentence_to_seq(s) for s in review])\n",
    "    if len(seq) < max_len:\n",
    "        seq = np.hstack([seq, np.full(max_len - len(seq), word_to_id[PAD], dtype=int)])\n",
    "    elif len(seq) > max_len:\n",
    "        seq = seq[:max_len]\n",
    "    return seq"
   ]
  },
  {
   "cell_type": "markdown",
   "metadata": {},
   "source": [
    "Посмотрим на максимальную длинну ревью и на boxplot.\n",
    "\n",
    "Мы видим, что несмотря на то, что максимальная длина имеет большое значение, 87.5 процентов ревью имеют длину не более 400 слов."
   ]
  },
  {
   "cell_type": "code",
   "execution_count": 15,
   "metadata": {
    "collapsed": false
   },
   "outputs": [
    {
     "data": {
      "text/plain": [
       "1444"
      ]
     },
     "execution_count": 15,
     "metadata": {},
     "output_type": "execute_result"
    }
   ],
   "source": [
    "def review_len(review):\n",
    "    return np.sum([len(s) for s in review])\n",
    "\n",
    "max_len = np.max([review_len(review) for review in train_sents])\n",
    "max_len"
   ]
  },
  {
   "cell_type": "code",
   "execution_count": 16,
   "metadata": {
    "collapsed": false
   },
   "outputs": [
    {
     "data": {
      "text/plain": [
       "<matplotlib.axes._subplots.AxesSubplot at 0x7f8333eb1780>"
      ]
     },
     "execution_count": 16,
     "metadata": {},
     "output_type": "execute_result"
    },
    {
     "data": {
      "image/png": "[encoded data removed]",
      "text/plain": [
       "<matplotlib.figure.Figure at 0x7f8334089dd8>"
      ]
     },
     "metadata": {},
     "output_type": "display_data"
    }
   ],
   "source": [
    "import seaborn as sns\n",
    "\n",
    "\n",
    "sns.boxplot([np.sum([len(s) for s in review]) for review in train_sents])"
   ]
  },
  {
   "cell_type": "code",
   "execution_count": 17,
   "metadata": {
    "collapsed": false
   },
   "outputs": [
    {
     "name": "stdout",
     "output_type": "stream",
     "text": [
      "2477 100000\n"
     ]
    }
   ],
   "source": [
    "long_reviews = [review for review in train_sents if review_len(review) >= 400]\n",
    "print(len(long_reviews), len(train_sents))"
   ]
  },
  {
   "cell_type": "code",
   "execution_count": 18,
   "metadata": {
    "collapsed": true
   },
   "outputs": [],
   "source": [
    "max_len = 400"
   ]
  },
  {
   "cell_type": "markdown",
   "metadata": {},
   "source": [
    "Построим обучающую выборку, и выполним one-hot кодирование label'ов."
   ]
  },
  {
   "cell_type": "code",
   "execution_count": 19,
   "metadata": {
    "collapsed": false
   },
   "outputs": [],
   "source": [
    "X = [review_to_seq(review, max_len) for review in train_sents[:train.shape[0]]]"
   ]
  },
  {
   "cell_type": "code",
   "execution_count": 20,
   "metadata": {
    "collapsed": false
   },
   "outputs": [
    {
     "data": {
      "text/plain": [
       "(25000, 400)"
      ]
     },
     "execution_count": 20,
     "metadata": {},
     "output_type": "execute_result"
    }
   ],
   "source": [
    "X = np.array(X)\n",
    "X.shape"
   ]
  },
  {
   "cell_type": "markdown",
   "metadata": {},
   "source": [
    "Мы видим, что в обучающей выборке классы имеют равные пропорции, следовательно, нет необходимости в использовании стратификации при разбиение на train/test."
   ]
  },
  {
   "cell_type": "code",
   "execution_count": 21,
   "metadata": {
    "collapsed": false
   },
   "outputs": [
    {
     "data": {
      "text/plain": [
       "12500"
      ]
     },
     "execution_count": 21,
     "metadata": {},
     "output_type": "execute_result"
    }
   ],
   "source": [
    "len(train[train['sentiment']==0])"
   ]
  },
  {
   "cell_type": "code",
   "execution_count": 22,
   "metadata": {
    "collapsed": true
   },
   "outputs": [],
   "source": [
    "y = train['sentiment']"
   ]
  },
  {
   "cell_type": "code",
   "execution_count": 23,
   "metadata": {
    "collapsed": true
   },
   "outputs": [],
   "source": [
    "def dense_to_one_hot(labels_dense, num_classes):\n",
    "    num_labels = labels_dense.shape[0]\n",
    "    index_offset = np.arange(num_labels) * num_classes\n",
    "    labels_one_hot = np.zeros((num_labels, num_classes))\n",
    "    labels_one_hot.flat[index_offset + labels_dense.ravel()] = 1\n",
    "    return labels_one_hot"
   ]
  },
  {
   "cell_type": "code",
   "execution_count": 24,
   "metadata": {
    "collapsed": true
   },
   "outputs": [],
   "source": [
    "y_one_hot = dense_to_one_hot(y, 2).astype(np.uint8)"
   ]
  },
  {
   "cell_type": "code",
   "execution_count": 25,
   "metadata": {
    "collapsed": true
   },
   "outputs": [],
   "source": [
    "from sklearn.model_selection import train_test_split\n",
    "\n",
    "\n",
    "X_train, X_test, y_train, y_test = train_test_split(X, y_one_hot, test_size=0.20, random_state=42)"
   ]
  },
  {
   "cell_type": "markdown",
   "metadata": {},
   "source": [
    "Воспользуемся обученной word2vec моделью для того, чтобы построить embedding матрицу для слов."
   ]
  },
  {
   "cell_type": "code",
   "execution_count": 26,
   "metadata": {
    "collapsed": false
   },
   "outputs": [
    {
     "data": {
      "text/plain": [
       "(14510, 300)"
      ]
     },
     "execution_count": 26,
     "metadata": {},
     "output_type": "execute_result"
    }
   ],
   "source": [
    "embedding = np.empty(shape=(vocab_size, num_features))\n",
    "\n",
    "for w,i in word_to_id.items():\n",
    "    if w == PAD:\n",
    "        embedding[i] = np.zeros(num_features)\n",
    "    else:\n",
    "        embedding[i] = model[w]\n",
    "    \n",
    "embedding.shape"
   ]
  },
  {
   "cell_type": "markdown",
   "metadata": {},
   "source": [
    "## Convolutional NN\n",
    "\n",
    "Попробуем в качестве классификатора использовать сверточную НС.\n",
    "\n",
    "<img src=\"conv.png\" style=\"width: 500px;\">"
   ]
  },
  {
   "cell_type": "code",
   "execution_count": 56,
   "metadata": {
    "collapsed": false
   },
   "outputs": [],
   "source": [
    "class TextCNN(object):\n",
    "    \"\"\"\n",
    "    A CNN for text classification.\n",
    "    Uses an embedding layer, followed by a convolutional, max-pooling and softmax layer.\n",
    "    \"\"\"\n",
    "    def __init__(self, \n",
    "                 sequence_length, \n",
    "                 num_classes, \n",
    "                 vocab_size,\n",
    "                 embedding_size, \n",
    "                 filter_sizes, \n",
    "                 num_filters, \n",
    "                 pre_trained_embedding=True, \n",
    "                 trainable=False):\n",
    "        \n",
    "        self.placeholders(sequence_length, num_classes, vocab_size, embedding_size, pre_trained_embedding)\n",
    "        self.embedding_layer(vocab_size, embedding_size, pre_trained_embedding, trainable)\n",
    "        self.conv_and_poll(sequence_length, embedding_size, filter_sizes, num_filters)\n",
    "        self.dropout()\n",
    "        self.scores_and_predictions(num_classes)\n",
    "        self.loss_and_accuracy()\n",
    "        \n",
    "        \n",
    "    # Placeholders for input, output and dropout\n",
    "    def placeholders(self, sequence_length, num_classes, vocab_size, embedding_size, pre_trained_embedding):\n",
    "        self.input_x = tf.placeholder(tf.int32, [None, sequence_length], name=\"input_x\")\n",
    "        self.input_y = tf.placeholder(tf.float32, [None, num_classes], name=\"input_y\")\n",
    "        self.dropout_keep_prob = tf.placeholder(tf.float32, name=\"dropout_keep_prob\")\n",
    "        \n",
    "        if pre_trained_embedding:\n",
    "            self.embedding_placeholder = tf.placeholder(tf.float32, [vocab_size, embedding_size], name=\"embedding\")\n",
    "    \n",
    "    \n",
    "    # Embedding Layer\n",
    "    def embedding_layer(self, vocab_size, embedding_size, pre_trained_embedding, trainable):\n",
    "        with tf.name_scope(\"embedding\"):\n",
    "            if pre_trained_embedding:\n",
    "                self.W = tf.Variable(tf.constant(0.0, shape=[vocab_size, embedding_size]),\n",
    "                                trainable=trainable, name=\"W\")\n",
    "\n",
    "                # init embedding\n",
    "                self.embedding_init = self.W.assign(self.embedding_placeholder)\n",
    "            else:\n",
    "                self.W = tf.Variable(\n",
    "                    tf.random_uniform([vocab_size, embedding_size], -1.0, 1.0),\n",
    "                    name=\"W\")\n",
    "            \n",
    "            self.embedded_chars = tf.nn.embedding_lookup(self.W, self.input_x)\n",
    "            self.embedded_chars_expanded = tf.expand_dims(self.embedded_chars, -1)\n",
    "       \n",
    "    \n",
    "    # Convolution & Pooling Layer\n",
    "    def conv_and_poll(self, sequence_length, embedding_size, filter_sizes, num_filters):\n",
    "        pooled_outputs = []\n",
    "        for i, filter_size in enumerate(filter_sizes):\n",
    "            with tf.name_scope(\"conv-maxpool-%s\" % filter_size):\n",
    "                # Convolution Layer\n",
    "                filter_shape = [filter_size, embedding_size, 1, num_filters]\n",
    "                W = tf.Variable(tf.truncated_normal(filter_shape, stddev=0.1), name=\"W\")\n",
    "                b = tf.Variable(tf.constant(0.1, shape=[num_filters]), name=\"b\")\n",
    "                conv = tf.nn.conv2d(\n",
    "                    self.embedded_chars_expanded,\n",
    "                    W,\n",
    "                    strides=[1, 1, 1, 1],\n",
    "                    padding=\"VALID\",\n",
    "                    name=\"conv\")\n",
    "                # Apply nonlinearity\n",
    "                h = tf.nn.relu(tf.nn.bias_add(conv, b), name=\"relu\")\n",
    "                # Max-pooling over the outputs\n",
    "                pooled = tf.nn.max_pool(\n",
    "                    h,\n",
    "                    ksize=[1, sequence_length - filter_size + 1, 1, 1],\n",
    "                    strides=[1, 1, 1, 1],\n",
    "                    padding='VALID',\n",
    "                    name=\"pool\")\n",
    "                pooled_outputs.append(pooled)\n",
    "\n",
    "        # Combine all the pooled features\n",
    "        self.num_filters_total = num_filters * len(filter_sizes)\n",
    "        self.h_pool = tf.concat(3, pooled_outputs)\n",
    "        self.h_pool_flat = tf.reshape(self.h_pool, [-1, self.num_filters_total])\n",
    "      \n",
    "    \n",
    "    # Add dropout\n",
    "    def dropout(self):\n",
    "        with tf.name_scope(\"dropout\"):\n",
    "            self.h_drop = tf.nn.dropout(self.h_pool_flat, self.dropout_keep_prob)\n",
    "     \n",
    "    \n",
    "    # Scores & Predictions\n",
    "    def scores_and_predictions(self, num_classes):\n",
    "        with tf.name_scope(\"output\"):\n",
    "            W = tf.Variable(tf.truncated_normal([self.num_filters_total, num_classes], stddev=0.1), name=\"W\")\n",
    "            b = tf.Variable(tf.constant(0.1, shape=[num_classes]), name=\"b\")\n",
    "            self.scores = tf.nn.xw_plus_b(self.h_drop, W, b, name=\"scores\")\n",
    "            self.predictions = tf.argmax(self.scores, 1, name=\"predictions\")\n",
    "    \n",
    "    \n",
    "    # Loss & Accuracy\n",
    "    def loss_and_accuracy(self):\n",
    "        with tf.name_scope(\"loss\"):\n",
    "            losses = tf.nn.softmax_cross_entropy_with_logits(self.scores, self.input_y)\n",
    "            self.loss = tf.reduce_mean(losses)\n",
    "            \n",
    "        with tf.name_scope(\"accuracy\"):\n",
    "            correct_predictions = tf.equal(self.predictions, tf.argmax(self.input_y, 1))\n",
    "            self.accuracy = tf.reduce_mean(tf.cast(correct_predictions, \"float\"), name=\"accuracy\")"
   ]
  },
  {
   "cell_type": "markdown",
   "metadata": {},
   "source": [
    "### Training"
   ]
  },
  {
   "cell_type": "code",
   "execution_count": 28,
   "metadata": {
    "collapsed": false
   },
   "outputs": [],
   "source": [
    "cnn = TextCNN(\n",
    "    sequence_length=max_len,\n",
    "    num_classes=2,\n",
    "    vocab_size=vocab_size,\n",
    "    embedding_size=num_features,\n",
    "    filter_sizes=[3, 4, 5],\n",
    "    num_filters=128, \n",
    "    pre_trained_embedding=False)"
   ]
  },
  {
   "cell_type": "code",
   "execution_count": 29,
   "metadata": {
    "collapsed": true
   },
   "outputs": [],
   "source": [
    "epochs_completed = 0\n",
    "index_in_epoch = 0\n",
    "num_examples = X_train.shape[0]\n",
    "\n",
    "# serve data by batches\n",
    "def next_batch(batch_size):\n",
    "    \n",
    "    global X_train\n",
    "    global y_train\n",
    "    global index_in_epoch\n",
    "    global epochs_completed\n",
    "    \n",
    "    start = index_in_epoch\n",
    "    index_in_epoch += batch_size\n",
    "    \n",
    "    # when all trainig data have been already used, it is reorder randomly    \n",
    "    if index_in_epoch > num_examples:\n",
    "        # finished epoch\n",
    "        epochs_completed += 1\n",
    "        # shuffle the data\n",
    "        perm = np.arange(num_examples)\n",
    "        np.random.shuffle(perm)\n",
    "        X_train = X_train[perm]\n",
    "        y_train = y_train[perm]\n",
    "        # start next epoch\n",
    "        start = 0\n",
    "        index_in_epoch = batch_size\n",
    "        assert batch_size <= num_examples\n",
    "    end = index_in_epoch\n",
    "    return X_train[start:end], y_train[start:end]"
   ]
  },
  {
   "cell_type": "code",
   "execution_count": 30,
   "metadata": {
    "collapsed": true
   },
   "outputs": [],
   "source": [
    "train_op = tf.train.AdamOptimizer(1e-4).minimize(cnn.loss)\n",
    "\n",
    "session_conf = tf.ConfigProto(allow_soft_placement=True)\n",
    "sess = tf.Session(config=session_conf)\n",
    "sess.run(tf.initialize_all_variables())"
   ]
  },
  {
   "cell_type": "code",
   "execution_count": 31,
   "metadata": {
    "collapsed": true
   },
   "outputs": [],
   "source": [
    "def train_step(x_batch, y_batch, dropout_keep_prob):\n",
    "    feed_dict = {\n",
    "      cnn.input_x: x_batch,\n",
    "      cnn.input_y: y_batch,\n",
    "      cnn.dropout_keep_prob: dropout_keep_prob\n",
    "    }\n",
    "    sess.run([train_op], feed_dict)\n",
    "    \n",
    "def eval_step(x_batch, y_batch, dropout_keep_prob):\n",
    "    feed_dict = {\n",
    "      cnn.input_x: x_batch,\n",
    "      cnn.input_y: y_batch,\n",
    "      cnn.dropout_keep_prob: dropout_keep_prob\n",
    "    }\n",
    "    return sess.run([cnn.accuracy], feed_dict)[0]\n",
    "    \n",
    "def train_loop(num_steps=2000, dropout_keep_prob=0.5):\n",
    "    for i in range(num_steps):\n",
    "        batch_xs, batch_ys = next_batch(50)\n",
    "\n",
    "        if i % 100 == 0:\n",
    "            train_accuracy = eval_step(batch_xs, batch_ys, dropout_keep_prob)\n",
    "            print('step %d, training accuracy %g' % (i, train_accuracy))\n",
    "\n",
    "        train_step(batch_xs, batch_ys, dropout_keep_prob)"
   ]
  },
  {
   "cell_type": "code",
   "execution_count": 32,
   "metadata": {
    "collapsed": false
   },
   "outputs": [
    {
     "name": "stdout",
     "output_type": "stream",
     "text": [
      "step 0, training accuracy 0.54\n",
      "step 100, training accuracy 0.66\n",
      "step 200, training accuracy 0.5\n",
      "step 300, training accuracy 0.54\n",
      "step 400, training accuracy 0.54\n",
      "step 500, training accuracy 0.52\n",
      "step 600, training accuracy 0.64\n",
      "step 700, training accuracy 0.76\n",
      "step 800, training accuracy 0.5\n",
      "step 900, training accuracy 0.58\n",
      "step 1000, training accuracy 0.62\n",
      "step 1100, training accuracy 0.6\n",
      "step 1200, training accuracy 0.66\n",
      "step 1300, training accuracy 0.58\n",
      "step 1400, training accuracy 0.64\n",
      "step 1500, training accuracy 0.52\n",
      "step 1600, training accuracy 0.64\n",
      "step 1700, training accuracy 0.8\n",
      "step 1800, training accuracy 0.68\n",
      "step 1900, training accuracy 0.56\n",
      "step 2000, training accuracy 0.52\n",
      "step 2100, training accuracy 0.7\n",
      "step 2200, training accuracy 0.56\n",
      "step 2300, training accuracy 0.46\n",
      "step 2400, training accuracy 0.7\n",
      "step 2500, training accuracy 0.62\n",
      "step 2600, training accuracy 0.66\n",
      "step 2700, training accuracy 0.74\n",
      "step 2800, training accuracy 0.58\n",
      "step 2900, training accuracy 0.68\n",
      "step 3000, training accuracy 0.72\n",
      "step 3100, training accuracy 0.66\n",
      "step 3200, training accuracy 0.72\n",
      "step 3300, training accuracy 0.76\n",
      "step 3400, training accuracy 0.64\n",
      "step 3500, training accuracy 0.7\n",
      "step 3600, training accuracy 0.58\n",
      "step 3700, training accuracy 0.74\n",
      "step 3800, training accuracy 0.72\n",
      "step 3900, training accuracy 0.8\n",
      "step 4000, training accuracy 0.7\n",
      "step 4100, training accuracy 0.74\n",
      "step 4200, training accuracy 0.76\n",
      "step 4300, training accuracy 0.7\n",
      "step 4400, training accuracy 0.76\n",
      "step 4500, training accuracy 0.72\n",
      "step 4600, training accuracy 0.72\n",
      "step 4700, training accuracy 0.84\n",
      "step 4800, training accuracy 0.82\n",
      "step 4900, training accuracy 0.8\n",
      "step 5000, training accuracy 0.78\n",
      "step 5100, training accuracy 0.74\n",
      "step 5200, training accuracy 0.84\n",
      "step 5300, training accuracy 0.76\n",
      "step 5400, training accuracy 0.78\n",
      "step 5500, training accuracy 0.84\n",
      "step 5600, training accuracy 0.86\n",
      "step 5700, training accuracy 0.82\n",
      "step 5800, training accuracy 0.76\n",
      "step 5900, training accuracy 0.78\n",
      "step 6000, training accuracy 0.78\n",
      "step 6100, training accuracy 0.7\n",
      "step 6200, training accuracy 0.78\n",
      "step 6300, training accuracy 0.8\n",
      "step 6400, training accuracy 0.74\n",
      "step 6500, training accuracy 0.86\n",
      "step 6600, training accuracy 0.78\n",
      "step 6700, training accuracy 0.88\n",
      "step 6800, training accuracy 0.72\n",
      "step 6900, training accuracy 0.74\n",
      "step 7000, training accuracy 0.72\n",
      "step 7100, training accuracy 0.8\n",
      "step 7200, training accuracy 0.84\n",
      "step 7300, training accuracy 0.74\n",
      "step 7400, training accuracy 0.84\n",
      "step 7500, training accuracy 0.72\n",
      "step 7600, training accuracy 0.82\n",
      "step 7700, training accuracy 0.78\n",
      "step 7800, training accuracy 0.94\n",
      "step 7900, training accuracy 0.82\n",
      "step 8000, training accuracy 0.86\n",
      "step 8100, training accuracy 0.82\n",
      "step 8200, training accuracy 0.82\n",
      "step 8300, training accuracy 0.82\n",
      "step 8400, training accuracy 0.74\n",
      "step 8500, training accuracy 0.78\n",
      "step 8600, training accuracy 0.88\n",
      "step 8700, training accuracy 0.84\n",
      "step 8800, training accuracy 0.88\n",
      "step 8900, training accuracy 0.84\n",
      "step 9000, training accuracy 0.88\n",
      "step 9100, training accuracy 0.82\n",
      "step 9200, training accuracy 0.94\n",
      "step 9300, training accuracy 0.88\n",
      "step 9400, training accuracy 0.88\n",
      "step 9500, training accuracy 0.78\n",
      "step 9600, training accuracy 0.8\n",
      "step 9700, training accuracy 0.92\n",
      "step 9800, training accuracy 0.88\n",
      "step 9900, training accuracy 0.88\n",
      "step 10000, training accuracy 0.74\n",
      "step 10100, training accuracy 0.9\n",
      "step 10200, training accuracy 0.86\n",
      "step 10300, training accuracy 0.82\n",
      "step 10400, training accuracy 0.88\n",
      "step 10500, training accuracy 0.84\n",
      "step 10600, training accuracy 0.9\n",
      "step 10700, training accuracy 0.8\n",
      "step 10800, training accuracy 0.86\n",
      "step 10900, training accuracy 0.84\n",
      "step 11000, training accuracy 0.88\n",
      "step 11100, training accuracy 0.9\n",
      "step 11200, training accuracy 0.92\n",
      "step 11300, training accuracy 0.88\n",
      "step 11400, training accuracy 0.82\n",
      "step 11500, training accuracy 0.86\n",
      "step 11600, training accuracy 0.84\n",
      "step 11700, training accuracy 0.9\n",
      "step 11800, training accuracy 0.88\n",
      "step 11900, training accuracy 0.88\n",
      "step 12000, training accuracy 0.8\n",
      "step 12100, training accuracy 0.84\n",
      "step 12200, training accuracy 0.74\n",
      "step 12300, training accuracy 0.9\n",
      "step 12400, training accuracy 0.96\n",
      "step 12500, training accuracy 0.8\n",
      "step 12600, training accuracy 0.94\n",
      "step 12700, training accuracy 0.94\n",
      "step 12800, training accuracy 0.92\n",
      "step 12900, training accuracy 0.92\n",
      "step 13000, training accuracy 0.84\n",
      "step 13100, training accuracy 0.88\n",
      "step 13200, training accuracy 0.88\n",
      "step 13300, training accuracy 0.94\n",
      "step 13400, training accuracy 0.92\n",
      "step 13500, training accuracy 0.82\n",
      "step 13600, training accuracy 0.94\n",
      "step 13700, training accuracy 0.82\n",
      "step 13800, training accuracy 0.88\n",
      "step 13900, training accuracy 0.86\n",
      "step 14000, training accuracy 0.9\n",
      "step 14100, training accuracy 0.88\n",
      "step 14200, training accuracy 0.82\n",
      "step 14300, training accuracy 0.92\n",
      "step 14400, training accuracy 0.96\n",
      "step 14500, training accuracy 0.9\n",
      "step 14600, training accuracy 0.88\n",
      "step 14700, training accuracy 0.88\n",
      "step 14800, training accuracy 0.96\n",
      "step 14900, training accuracy 0.88\n"
     ]
    }
   ],
   "source": [
    "train_loop(num_steps=15000)"
   ]
  },
  {
   "cell_type": "code",
   "execution_count": 36,
   "metadata": {
    "collapsed": false
   },
   "outputs": [
    {
     "name": "stdout",
     "output_type": "stream",
     "text": [
      "step 0, training accuracy 0.92\n",
      "step 100, training accuracy 0.8\n",
      "step 200, training accuracy 0.86\n",
      "step 300, training accuracy 0.94\n",
      "step 400, training accuracy 0.94\n",
      "step 500, training accuracy 0.88\n",
      "step 600, training accuracy 0.94\n",
      "step 700, training accuracy 0.84\n",
      "step 800, training accuracy 0.98\n",
      "step 900, training accuracy 0.94\n",
      "step 1000, training accuracy 0.94\n",
      "step 1100, training accuracy 0.86\n",
      "step 1200, training accuracy 0.98\n",
      "step 1300, training accuracy 0.98\n",
      "step 1400, training accuracy 0.94\n",
      "step 1500, training accuracy 0.92\n",
      "step 1600, training accuracy 0.9\n",
      "step 1700, training accuracy 0.88\n",
      "step 1800, training accuracy 0.92\n",
      "step 1900, training accuracy 0.98\n",
      "step 2000, training accuracy 0.94\n",
      "step 2100, training accuracy 0.98\n",
      "step 2200, training accuracy 1\n",
      "step 2300, training accuracy 0.98\n",
      "step 2400, training accuracy 0.98\n",
      "step 2500, training accuracy 0.92\n",
      "step 2600, training accuracy 0.88\n",
      "step 2700, training accuracy 0.9\n",
      "step 2800, training accuracy 0.92\n",
      "step 2900, training accuracy 0.94\n",
      "step 3000, training accuracy 0.9\n",
      "step 3100, training accuracy 0.9\n",
      "step 3200, training accuracy 0.98\n",
      "step 3300, training accuracy 0.94\n",
      "step 3400, training accuracy 0.98\n",
      "step 3500, training accuracy 0.98\n",
      "step 3600, training accuracy 0.9\n",
      "step 3700, training accuracy 0.98\n",
      "step 3800, training accuracy 0.96\n",
      "step 3900, training accuracy 0.96\n"
     ]
    }
   ],
   "source": [
    "train_loop(num_steps=4000)"
   ]
  },
  {
   "cell_type": "markdown",
   "metadata": {},
   "source": [
    "### Evaluation"
   ]
  },
  {
   "cell_type": "code",
   "execution_count": 33,
   "metadata": {
    "collapsed": true
   },
   "outputs": [],
   "source": [
    "def softmax(x):\n",
    "    \"\"\"Compute softmax values for each sets of scores in x.\"\"\"\n",
    "    e_x = np.exp(x - np.max(x))\n",
    "    return e_x / e_x.sum()\n",
    "\n",
    "def predict_proba(X):\n",
    "    scores = np.zeros((X.shape[0], 2))\n",
    "    for i in range(X.shape[0] // 50):\n",
    "        feed_dict={cnn.input_x: X[i*50 : (i+1)*50], cnn.dropout_keep_prob: 0.5}\n",
    "        \n",
    "        scores[i*50 : (i+1)*50,] = sess.run(cnn.scores, feed_dict)\n",
    "\n",
    "    return np.array([softmax(s) for s in scores])"
   ]
  },
  {
   "cell_type": "code",
   "execution_count": 34,
   "metadata": {
    "collapsed": true
   },
   "outputs": [],
   "source": [
    "# feed_dict = {\n",
    "#     cnn.input_x: X_test,\n",
    "#     cnn.input_y: y_test,\n",
    "#     cnn.dropout_keep_prob: 0.5\n",
    "# }\n",
    "\n",
    "# print(sess.run(cnn.accuracy, feed_dict))"
   ]
  },
  {
   "cell_type": "code",
   "execution_count": 37,
   "metadata": {
    "collapsed": false
   },
   "outputs": [
    {
     "data": {
      "text/plain": [
       "0.91023289505201821"
      ]
     },
     "execution_count": 37,
     "metadata": {},
     "output_type": "execute_result"
    }
   ],
   "source": [
    "from sklearn.metrics import roc_auc_score\n",
    "\n",
    "roc_auc_score(y_test, predict_proba(X_test))"
   ]
  },
  {
   "cell_type": "code",
   "execution_count": 52,
   "metadata": {
    "collapsed": true
   },
   "outputs": [],
   "source": [
    "def make_submission(preds):\n",
    "    validation_ids = np.array([i[1:-1] for i in validation['id'].values])\n",
    "    result = pd.concat([pd.DataFrame(validation_ids ,columns=['id']), \n",
    "                        pd.DataFrame(preds ,columns=['sentiment']).astype(int)], axis=1)\n",
    "    result.to_csv('submission.csv', index=False)"
   ]
  },
  {
   "cell_type": "code",
   "execution_count": 39,
   "metadata": {
    "collapsed": false
   },
   "outputs": [
    {
     "data": {
      "text/plain": [
       "(25000, 400)"
      ]
     },
     "execution_count": 39,
     "metadata": {},
     "output_type": "execute_result"
    }
   ],
   "source": [
    "X_validate = [review_to_seq(review, max_len) for review in train_sents[train.shape[0] + unlabeled_train.shape[0]:]]\n",
    "X_validate = np.array(X_validate)\n",
    "X_validate.shape"
   ]
  },
  {
   "cell_type": "code",
   "execution_count": 40,
   "metadata": {
    "collapsed": true
   },
   "outputs": [],
   "source": [
    "def predictions(X):\n",
    "    preds = np.zeros(X.shape[0])\n",
    "    for i in range(X.shape[0] // 50):\n",
    "        feed_dict={cnn.input_x: X[i*50 : (i+1)*50], cnn.dropout_keep_prob: 0.5}\n",
    "        preds[i*50 : (i+1)*50] = sess.run(cnn.predictions, feed_dict)\n",
    "    return preds\n",
    "    \n",
    "\n",
    "preds = predictions(X_validate)\n",
    "make_submission(preds)"
   ]
  },
  {
   "cell_type": "code",
   "execution_count": 53,
   "metadata": {
    "collapsed": true
   },
   "outputs": [],
   "source": [
    "sess.close()"
   ]
  },
  {
   "cell_type": "markdown",
   "metadata": {},
   "source": [
    "### Pre-trained Embedding\n",
    "\n",
    "Выполним инициализацию embedding матрицы, используя word2vec модель, которую мы обучили ранее."
   ]
  },
  {
   "cell_type": "code",
   "execution_count": 57,
   "metadata": {
    "collapsed": false
   },
   "outputs": [],
   "source": [
    "cnn = TextCNN(\n",
    "    sequence_length=max_len,\n",
    "    num_classes=2,\n",
    "    vocab_size=vocab_size,\n",
    "    embedding_size=num_features,\n",
    "    filter_sizes=[3, 4, 5],\n",
    "    num_filters=128, \n",
    "    pre_trained_embedding=True, \n",
    "    trainable=True)"
   ]
  },
  {
   "cell_type": "code",
   "execution_count": 58,
   "metadata": {
    "collapsed": false
   },
   "outputs": [
    {
     "data": {
      "text/plain": [
       "array([[ 0.02092806,  0.0831697 , -0.07886622, ..., -0.09528812,\n",
       "         0.04146958,  0.00389927],\n",
       "       [-0.06520111,  0.02616222, -0.01434479, ...,  0.03417772,\n",
       "         0.03332462, -0.04156829],\n",
       "       [ 0.08883546, -0.0441605 ,  0.03837937, ..., -0.01707793,\n",
       "        -0.09630706,  0.02613185],\n",
       "       ..., \n",
       "       [ 0.03836618,  0.01997105, -0.07133908, ...,  0.14455603,\n",
       "         0.04657643,  0.04528135],\n",
       "       [ 0.02618262, -0.03219948, -0.04955882, ..., -0.00354062,\n",
       "        -0.08708408, -0.12547544],\n",
       "       [ 0.        ,  0.        ,  0.        , ...,  0.        ,\n",
       "         0.        ,  0.        ]], dtype=float32)"
      ]
     },
     "execution_count": 58,
     "metadata": {},
     "output_type": "execute_result"
    }
   ],
   "source": [
    "train_op = tf.train.AdamOptimizer(1e-4).minimize(cnn.loss)\n",
    "\n",
    "session_conf = tf.ConfigProto(allow_soft_placement=True)\n",
    "sess = tf.Session(config=session_conf)\n",
    "sess.run(tf.initialize_all_variables())\n",
    "\n",
    "sess.run(cnn.embedding_init, feed_dict={cnn.embedding_placeholder: embedding})"
   ]
  },
  {
   "cell_type": "code",
   "execution_count": 59,
   "metadata": {
    "collapsed": false
   },
   "outputs": [
    {
     "name": "stdout",
     "output_type": "stream",
     "text": [
      "step 0, training accuracy 0.4\n",
      "step 100, training accuracy 0.58\n",
      "step 200, training accuracy 0.72\n",
      "step 300, training accuracy 0.74\n",
      "step 400, training accuracy 0.74\n",
      "step 500, training accuracy 0.66\n",
      "step 600, training accuracy 0.72\n",
      "step 700, training accuracy 0.72\n",
      "step 800, training accuracy 0.86\n",
      "step 900, training accuracy 0.84\n",
      "step 1000, training accuracy 0.72\n",
      "step 1100, training accuracy 0.82\n",
      "step 1200, training accuracy 0.86\n",
      "step 1300, training accuracy 0.86\n",
      "step 1400, training accuracy 0.86\n",
      "step 1500, training accuracy 0.84\n",
      "step 1600, training accuracy 0.86\n",
      "step 1700, training accuracy 0.86\n",
      "step 1800, training accuracy 0.94\n",
      "step 1900, training accuracy 0.96\n",
      "step 2000, training accuracy 0.88\n",
      "step 2100, training accuracy 0.94\n",
      "step 2200, training accuracy 0.94\n",
      "step 2300, training accuracy 0.86\n",
      "step 2400, training accuracy 0.9\n",
      "step 2500, training accuracy 0.9\n",
      "step 2600, training accuracy 0.84\n",
      "step 2700, training accuracy 0.92\n",
      "step 2800, training accuracy 0.82\n",
      "step 2900, training accuracy 0.9\n",
      "step 3000, training accuracy 0.92\n",
      "step 3100, training accuracy 0.96\n",
      "step 3200, training accuracy 0.94\n",
      "step 3300, training accuracy 0.88\n",
      "step 3400, training accuracy 0.96\n",
      "step 3500, training accuracy 0.98\n",
      "step 3600, training accuracy 0.9\n",
      "step 3700, training accuracy 1\n",
      "step 3800, training accuracy 0.9\n",
      "step 3900, training accuracy 0.94\n"
     ]
    }
   ],
   "source": [
    "train_loop(num_steps=4000)"
   ]
  },
  {
   "cell_type": "code",
   "execution_count": 60,
   "metadata": {
    "collapsed": false
   },
   "outputs": [
    {
     "data": {
      "text/plain": [
       "0.93917344665827907"
      ]
     },
     "execution_count": 60,
     "metadata": {},
     "output_type": "execute_result"
    }
   ],
   "source": [
    "roc_auc_score(y_test, predict_proba(X_test))"
   ]
  },
  {
   "cell_type": "code",
   "execution_count": 61,
   "metadata": {
    "collapsed": true
   },
   "outputs": [],
   "source": [
    "preds = predictions(X_validate)\n",
    "make_submission(preds)"
   ]
  },
  {
   "cell_type": "code",
   "execution_count": 62,
   "metadata": {
    "collapsed": false
   },
   "outputs": [
    {
     "name": "stdout",
     "output_type": "stream",
     "text": [
      "step 0, training accuracy 0.96\n",
      "step 100, training accuracy 0.96\n",
      "step 200, training accuracy 0.92\n",
      "step 300, training accuracy 0.92\n",
      "step 400, training accuracy 0.94\n",
      "step 500, training accuracy 0.96\n",
      "step 600, training accuracy 0.94\n",
      "step 700, training accuracy 0.96\n",
      "step 800, training accuracy 0.92\n",
      "step 900, training accuracy 0.98\n",
      "step 1000, training accuracy 0.96\n",
      "step 1100, training accuracy 0.96\n",
      "step 1200, training accuracy 0.96\n",
      "step 1300, training accuracy 0.96\n",
      "step 1400, training accuracy 0.96\n",
      "step 1500, training accuracy 0.98\n",
      "step 1600, training accuracy 0.98\n",
      "step 1700, training accuracy 1\n",
      "step 1800, training accuracy 1\n",
      "step 1900, training accuracy 0.96\n"
     ]
    }
   ],
   "source": [
    "train_loop(num_steps=2000)"
   ]
  },
  {
   "cell_type": "code",
   "execution_count": 63,
   "metadata": {
    "collapsed": false
   },
   "outputs": [
    {
     "data": {
      "text/plain": [
       "0.94753536964295049"
      ]
     },
     "execution_count": 63,
     "metadata": {},
     "output_type": "execute_result"
    }
   ],
   "source": [
    "roc_auc_score(y_test, predict_proba(X_test))"
   ]
  },
  {
   "cell_type": "code",
   "execution_count": 64,
   "metadata": {
    "collapsed": true
   },
   "outputs": [],
   "source": [
    "preds = predictions(X_validate)\n",
    "make_submission(preds)"
   ]
  },
  {
   "cell_type": "code",
   "execution_count": 66,
   "metadata": {
    "collapsed": true
   },
   "outputs": [],
   "source": [
    "sess.close()"
   ]
  },
  {
   "cell_type": "markdown",
   "metadata": {},
   "source": [
    "## Character Level Convolutional NN"
   ]
  },
  {
   "cell_type": "markdown",
   "metadata": {},
   "source": [
    "## Recurrent NN\n",
    "\n",
    "Рекуррентная НС с LSTM ячейками."
   ]
  },
  {
   "cell_type": "code",
   "execution_count": 111,
   "metadata": {
    "collapsed": true
   },
   "outputs": [],
   "source": [
    "class RNN(object):\n",
    "    def __init__(self, \n",
    "                 max_length, \n",
    "                 num_classes, \n",
    "                 units_cnt,\n",
    "                 vocab_size,\n",
    "                 embedding_size, \n",
    "                 batch_size, \n",
    "                 pre_trained_embedding):\n",
    "        \n",
    "        self.input_x = tf.placeholder(tf.int32, [batch_size, max_length], name=\"input_x\")\n",
    "        self.input_y = tf.placeholder(tf.float32, [batch_size, num_classes], name=\"input_y\")\n",
    "        self.seq_len = tf.placeholder(tf.int32, [batch_size], name=\"seq_len\")\n",
    "        \n",
    "        if pre_trained_embedding:\n",
    "            self.embedding_placeholder = tf.placeholder(tf.float32, [vocab_size, embedding_size], name=\"embedding\")\n",
    "        \n",
    "        with tf.name_scope(\"embedding\"):\n",
    "            if pre_trained_embedding:\n",
    "                self.W = tf.Variable(tf.constant(0.0, shape=[vocab_size, embedding_size]),\n",
    "                                     trainable=True, name=\"W\")\n",
    "\n",
    "                # init embedding\n",
    "                self.embedding_init = self.W.assign(self.embedding_placeholder)\n",
    "            else:\n",
    "                self.W = tf.Variable(tf.random_uniform([vocab_size, embedding_size], -1.0, 1.0), name=\"W\")\n",
    "            \n",
    "            self.embedded_chars = tf.nn.embedding_lookup(self.W, self.input_x)\n",
    "            \n",
    "        with tf.variable_scope(\"lstm1\"):\n",
    "            self.lstm_cell = tf.nn.rnn_cell.LSTMCell(units_cnt)\n",
    "            self.value, _ = tf.nn.dynamic_rnn(self.lstm_cell, self.embedded_chars, \n",
    "                                              sequence_length=self.seq_len, dtype=tf.float32)\n",
    "        \n",
    "        with tf.name_scope(\"output\"):\n",
    "            W = tf.Variable(tf.truncated_normal([units_cnt, num_classes]))\n",
    "            b = tf.Variable(tf.constant(0.1, shape=[num_classes]))\n",
    "            \n",
    "            self.value = tf.transpose(self.value, [1, 0, 2])\n",
    "            \n",
    "            last = tf.gather(self.value, int(self.value.get_shape()[0]) - 1)\n",
    "            self.scores = tf.nn.xw_plus_b(last, W, b, name=\"scores\")\n",
    "            self.predictions = tf.argmax(self.scores, 1, name=\"predictions\")\n",
    "            \n",
    "        with tf.name_scope(\"loss\"):\n",
    "            losses = tf.nn.softmax_cross_entropy_with_logits(self.scores, self.input_y)\n",
    "            self.loss = tf.reduce_mean(losses)\n",
    "            \n",
    "        with tf.name_scope(\"accuracy\"):\n",
    "            correct_predictions = tf.equal(self.predictions, tf.argmax(self.input_y, 1))\n",
    "            self.accuracy = tf.reduce_mean(tf.cast(correct_predictions, \"float\"), name=\"accuracy\")"
   ]
  },
  {
   "cell_type": "code",
   "execution_count": 112,
   "metadata": {
    "collapsed": false
   },
   "outputs": [],
   "source": [
    "BATCH_SIZE = 50\n",
    "\n",
    "rnn = RNN(max_length=max_len, \n",
    "          num_classes=2, \n",
    "          units_cnt=max_len,\n",
    "          vocab_size=vocab_size,\n",
    "          embedding_size=num_features, \n",
    "          batch_size=BATCH_SIZE, \n",
    "          pre_trained_embedding=True)"
   ]
  },
  {
   "cell_type": "markdown",
   "metadata": {},
   "source": [
    "### Training"
   ]
  },
  {
   "cell_type": "code",
   "execution_count": 81,
   "metadata": {
    "collapsed": false
   },
   "outputs": [],
   "source": [
    "def sentence_len(s):\n",
    "    i, = np.where(s == word_to_id[PAD])\n",
    "    return len(s) if len(i) == 0 else i[0] + 1"
   ]
  },
  {
   "cell_type": "code",
   "execution_count": 83,
   "metadata": {
    "collapsed": false
   },
   "outputs": [],
   "source": [
    "seq_len_train = np.array([sentence_len(s) for s in X_train])\n",
    "seq_len_test = np.array([sentence_len(s) for s in X_test])"
   ]
  },
  {
   "cell_type": "code",
   "execution_count": 84,
   "metadata": {
    "collapsed": true
   },
   "outputs": [],
   "source": [
    "def batch_iter(data, batch_size, num_epochs, shuffle=True):\n",
    "    data = np.array(data)\n",
    "    data_size = len(data)\n",
    "    num_batches_per_epoch = int((len(data)-1)/batch_size) + 1\n",
    "    \n",
    "    for epoch in range(num_epochs):\n",
    "        # Shuffle the data at each epoch\n",
    "        if shuffle:\n",
    "            shuffle_indices = np.random.permutation(np.arange(data_size))\n",
    "            shuffled_data = data[shuffle_indices]\n",
    "        else:\n",
    "            shuffled_data = data\n",
    "            \n",
    "        for batch_num in range(num_batches_per_epoch):\n",
    "            start_index = batch_num * batch_size\n",
    "            end_index = min((batch_num + 1) * batch_size, data_size)\n",
    "            yield shuffled_data[start_index:end_index]"
   ]
  },
  {
   "cell_type": "code",
   "execution_count": 114,
   "metadata": {
    "collapsed": true
   },
   "outputs": [],
   "source": [
    "train_op = tf.train.AdamOptimizer(1e-4).minimize(rnn.loss)\n",
    "\n",
    "session_conf = tf.ConfigProto(allow_soft_placement=True)\n",
    "sess = tf.Session(config=session_conf)\n",
    "sess.run(tf.initialize_all_variables())"
   ]
  },
  {
   "cell_type": "code",
   "execution_count": 115,
   "metadata": {
    "collapsed": false
   },
   "outputs": [
    {
     "data": {
      "text/plain": [
       "array([[ 0.02092806,  0.0831697 , -0.07886622, ..., -0.09528812,\n",
       "         0.04146958,  0.00389927],\n",
       "       [-0.06520111,  0.02616222, -0.01434479, ...,  0.03417772,\n",
       "         0.03332462, -0.04156829],\n",
       "       [ 0.08883546, -0.0441605 ,  0.03837937, ..., -0.01707793,\n",
       "        -0.09630706,  0.02613185],\n",
       "       ..., \n",
       "       [ 0.03836618,  0.01997105, -0.07133908, ...,  0.14455603,\n",
       "         0.04657643,  0.04528135],\n",
       "       [ 0.02618262, -0.03219948, -0.04955882, ..., -0.00354062,\n",
       "        -0.08708408, -0.12547544],\n",
       "       [ 0.        ,  0.        ,  0.        , ...,  0.        ,\n",
       "         0.        ,  0.        ]], dtype=float32)"
      ]
     },
     "execution_count": 115,
     "metadata": {},
     "output_type": "execute_result"
    }
   ],
   "source": [
    "sess.run(rnn.embedding_init, feed_dict={rnn.embedding_placeholder: embedding})"
   ]
  },
  {
   "cell_type": "code",
   "execution_count": 120,
   "metadata": {
    "collapsed": true
   },
   "outputs": [],
   "source": [
    "t_data = list(zip(X_train, y_train, seq_len_train))"
   ]
  },
  {
   "cell_type": "code",
   "execution_count": 121,
   "metadata": {
    "collapsed": true
   },
   "outputs": [],
   "source": [
    "def train_step(x_batch, y_batch, seq_len):\n",
    "    feed_dict = {\n",
    "      rnn.input_x: x_batch,\n",
    "      rnn.input_y: y_batch,\n",
    "      rnn.seq_len: seq_len\n",
    "    }\n",
    "    sess.run([train_op], feed_dict)\n",
    "    \n",
    "def eval_step(x_batch, y_batch, seq_len):\n",
    "    feed_dict = {\n",
    "      rnn.input_x: x_batch,\n",
    "      rnn.input_y: y_batch,\n",
    "      rnn.seq_len: seq_len\n",
    "    }\n",
    "    return sess.run([rnn.accuracy], feed_dict)[0]\n",
    "    \n",
    "def train_loop(e_cnt=4, evaluate_every=100):\n",
    "    batches = batch_iter(t_data, BATCH_SIZE, e_cnt)\n",
    "    \n",
    "    i = 0\n",
    "    for batch in batches:\n",
    "        batch_xs, batch_ys, batch_seq_len = zip(*batch)\n",
    "\n",
    "        if i % evaluate_every == 0:\n",
    "            train_accuracy = eval_step(batch_xs, batch_ys, batch_seq_len)\n",
    "            print('step %d, training accuracy %g' % (i, train_accuracy))\n",
    "\n",
    "        train_step(batch_xs, batch_ys, batch_seq_len)\n",
    "        i += 1"
   ]
  },
  {
   "cell_type": "code",
   "execution_count": 122,
   "metadata": {
    "collapsed": false
   },
   "outputs": [
    {
     "name": "stdout",
     "output_type": "stream",
     "text": [
      "step 0, training accuracy 0.52\n",
      "step 100, training accuracy 0.66\n",
      "step 200, training accuracy 0.5\n",
      "step 300, training accuracy 0.44\n",
      "step 400, training accuracy 0.52\n",
      "step 500, training accuracy 0.58\n",
      "step 600, training accuracy 0.38\n",
      "step 700, training accuracy 0.54\n",
      "step 800, training accuracy 0.46\n",
      "step 900, training accuracy 0.48\n",
      "step 1000, training accuracy 0.56\n",
      "step 1100, training accuracy 0.56\n",
      "step 1200, training accuracy 0.64\n",
      "step 1300, training accuracy 0.52\n",
      "step 1400, training accuracy 0.58\n",
      "step 1500, training accuracy 0.58\n"
     ]
    }
   ],
   "source": [
    "train_loop()"
   ]
  },
  {
   "cell_type": "code",
   "execution_count": 124,
   "metadata": {
    "collapsed": false
   },
   "outputs": [
    {
     "name": "stdout",
     "output_type": "stream",
     "text": [
      "step 0, training accuracy 0.36\n",
      "step 100, training accuracy 0.38\n",
      "step 200, training accuracy 0.54\n",
      "step 300, training accuracy 0.54\n",
      "step 400, training accuracy 0.58\n",
      "step 500, training accuracy 0.56\n",
      "step 600, training accuracy 0.38\n",
      "step 700, training accuracy 0.5\n",
      "step 800, training accuracy 0.48\n",
      "step 900, training accuracy 0.54\n",
      "step 1000, training accuracy 0.3\n",
      "step 1100, training accuracy 0.44\n",
      "step 1200, training accuracy 0.54\n",
      "step 1300, training accuracy 0.4\n",
      "step 1400, training accuracy 0.6\n",
      "step 1500, training accuracy 0.64\n",
      "step 1600, training accuracy 0.5\n",
      "step 1700, training accuracy 0.62\n",
      "step 1800, training accuracy 0.54\n",
      "step 1900, training accuracy 0.62\n",
      "step 2000, training accuracy 0.46\n",
      "step 2100, training accuracy 0.48\n",
      "step 2200, training accuracy 0.6\n",
      "step 2300, training accuracy 0.56\n",
      "step 2400, training accuracy 0.52\n",
      "step 2500, training accuracy 0.6\n",
      "step 2600, training accuracy 0.56\n",
      "step 2700, training accuracy 0.58\n",
      "step 2800, training accuracy 0.56\n",
      "step 2900, training accuracy 0.5\n",
      "step 3000, training accuracy 0.5\n",
      "step 3100, training accuracy 0.44\n",
      "step 3200, training accuracy 0.42\n",
      "step 3300, training accuracy 0.48\n",
      "step 3400, training accuracy 0.44\n",
      "step 3500, training accuracy 0.58\n",
      "step 3600, training accuracy 0.56\n",
      "step 3700, training accuracy 0.42\n"
     ]
    },
    {
     "ename": "KeyboardInterrupt",
     "evalue": "",
     "output_type": "error",
     "traceback": [
      "\u001b[0;31m---------------------------------------------------------------------------\u001b[0m",
      "\u001b[0;31mKeyboardInterrupt\u001b[0m                         Traceback (most recent call last)",
      "\u001b[0;32m<ipython-input-124-01a8c5c44a65>\u001b[0m in \u001b[0;36m<module>\u001b[0;34m()\u001b[0m\n\u001b[0;32m----> 1\u001b[0;31m \u001b[0mtrain_loop\u001b[0m\u001b[0;34m(\u001b[0m\u001b[0;36m40\u001b[0m\u001b[0;34m)\u001b[0m\u001b[0;34m\u001b[0m\u001b[0m\n\u001b[0m",
      "\u001b[0;32m<ipython-input-121-334dc68ee61b>\u001b[0m in \u001b[0;36mtrain_loop\u001b[0;34m(e_cnt, evaluate_every)\u001b[0m\n\u001b[1;32m     26\u001b[0m             \u001b[0mprint\u001b[0m\u001b[0;34m(\u001b[0m\u001b[0;34m'step %d, training accuracy %g'\u001b[0m \u001b[0;34m%\u001b[0m \u001b[0;34m(\u001b[0m\u001b[0mi\u001b[0m\u001b[0;34m,\u001b[0m \u001b[0mtrain_accuracy\u001b[0m\u001b[0;34m)\u001b[0m\u001b[0;34m)\u001b[0m\u001b[0;34m\u001b[0m\u001b[0m\n\u001b[1;32m     27\u001b[0m \u001b[0;34m\u001b[0m\u001b[0m\n\u001b[0;32m---> 28\u001b[0;31m         \u001b[0mtrain_step\u001b[0m\u001b[0;34m(\u001b[0m\u001b[0mbatch_xs\u001b[0m\u001b[0;34m,\u001b[0m \u001b[0mbatch_ys\u001b[0m\u001b[0;34m,\u001b[0m \u001b[0mbatch_seq_len\u001b[0m\u001b[0;34m)\u001b[0m\u001b[0;34m\u001b[0m\u001b[0m\n\u001b[0m\u001b[1;32m     29\u001b[0m         \u001b[0mi\u001b[0m \u001b[0;34m+=\u001b[0m \u001b[0;36m1\u001b[0m\u001b[0;34m\u001b[0m\u001b[0m\n",
      "\u001b[0;32m<ipython-input-121-334dc68ee61b>\u001b[0m in \u001b[0;36mtrain_step\u001b[0;34m(x_batch, y_batch, seq_len)\u001b[0m\n\u001b[1;32m      5\u001b[0m       \u001b[0mrnn\u001b[0m\u001b[0;34m.\u001b[0m\u001b[0mseq_len\u001b[0m\u001b[0;34m:\u001b[0m \u001b[0mseq_len\u001b[0m\u001b[0;34m\u001b[0m\u001b[0m\n\u001b[1;32m      6\u001b[0m     }\n\u001b[0;32m----> 7\u001b[0;31m     \u001b[0msess\u001b[0m\u001b[0;34m.\u001b[0m\u001b[0mrun\u001b[0m\u001b[0;34m(\u001b[0m\u001b[0;34m[\u001b[0m\u001b[0mtrain_op\u001b[0m\u001b[0;34m]\u001b[0m\u001b[0;34m,\u001b[0m \u001b[0mfeed_dict\u001b[0m\u001b[0;34m)\u001b[0m\u001b[0;34m\u001b[0m\u001b[0m\n\u001b[0m\u001b[1;32m      8\u001b[0m \u001b[0;34m\u001b[0m\u001b[0m\n\u001b[1;32m      9\u001b[0m \u001b[0;32mdef\u001b[0m \u001b[0meval_step\u001b[0m\u001b[0;34m(\u001b[0m\u001b[0mx_batch\u001b[0m\u001b[0;34m,\u001b[0m \u001b[0my_batch\u001b[0m\u001b[0;34m,\u001b[0m \u001b[0mseq_len\u001b[0m\u001b[0;34m)\u001b[0m\u001b[0;34m:\u001b[0m\u001b[0;34m\u001b[0m\u001b[0m\n",
      "\u001b[0;32m/home/austud/.local/lib/python3.5/site-packages/tensorflow/python/client/session.py\u001b[0m in \u001b[0;36mrun\u001b[0;34m(self, fetches, feed_dict, options, run_metadata)\u001b[0m\n\u001b[1;32m    715\u001b[0m     \u001b[0;32mtry\u001b[0m\u001b[0;34m:\u001b[0m\u001b[0;34m\u001b[0m\u001b[0m\n\u001b[1;32m    716\u001b[0m       result = self._run(None, fetches, feed_dict, options_ptr,\n\u001b[0;32m--> 717\u001b[0;31m                          run_metadata_ptr)\n\u001b[0m\u001b[1;32m    718\u001b[0m       \u001b[0;32mif\u001b[0m \u001b[0mrun_metadata\u001b[0m\u001b[0;34m:\u001b[0m\u001b[0;34m\u001b[0m\u001b[0m\n\u001b[1;32m    719\u001b[0m         \u001b[0mproto_data\u001b[0m \u001b[0;34m=\u001b[0m \u001b[0mtf_session\u001b[0m\u001b[0;34m.\u001b[0m\u001b[0mTF_GetBuffer\u001b[0m\u001b[0;34m(\u001b[0m\u001b[0mrun_metadata_ptr\u001b[0m\u001b[0;34m)\u001b[0m\u001b[0;34m\u001b[0m\u001b[0m\n",
      "\u001b[0;32m/home/austud/.local/lib/python3.5/site-packages/tensorflow/python/client/session.py\u001b[0m in \u001b[0;36m_run\u001b[0;34m(self, handle, fetches, feed_dict, options, run_metadata)\u001b[0m\n\u001b[1;32m    913\u001b[0m     \u001b[0;32mif\u001b[0m \u001b[0mfinal_fetches\u001b[0m \u001b[0;32mor\u001b[0m \u001b[0mfinal_targets\u001b[0m\u001b[0;34m:\u001b[0m\u001b[0;34m\u001b[0m\u001b[0m\n\u001b[1;32m    914\u001b[0m       results = self._do_run(handle, final_targets, final_fetches,\n\u001b[0;32m--> 915\u001b[0;31m                              feed_dict_string, options, run_metadata)\n\u001b[0m\u001b[1;32m    916\u001b[0m     \u001b[0;32melse\u001b[0m\u001b[0;34m:\u001b[0m\u001b[0;34m\u001b[0m\u001b[0m\n\u001b[1;32m    917\u001b[0m       \u001b[0mresults\u001b[0m \u001b[0;34m=\u001b[0m \u001b[0;34m[\u001b[0m\u001b[0;34m]\u001b[0m\u001b[0;34m\u001b[0m\u001b[0m\n",
      "\u001b[0;32m/home/austud/.local/lib/python3.5/site-packages/tensorflow/python/client/session.py\u001b[0m in \u001b[0;36m_do_run\u001b[0;34m(self, handle, target_list, fetch_list, feed_dict, options, run_metadata)\u001b[0m\n\u001b[1;32m    963\u001b[0m     \u001b[0;32mif\u001b[0m \u001b[0mhandle\u001b[0m \u001b[0;32mis\u001b[0m \u001b[0;32mNone\u001b[0m\u001b[0;34m:\u001b[0m\u001b[0;34m\u001b[0m\u001b[0m\n\u001b[1;32m    964\u001b[0m       return self._do_call(_run_fn, self._session, feed_dict, fetch_list,\n\u001b[0;32m--> 965\u001b[0;31m                            target_list, options, run_metadata)\n\u001b[0m\u001b[1;32m    966\u001b[0m     \u001b[0;32melse\u001b[0m\u001b[0;34m:\u001b[0m\u001b[0;34m\u001b[0m\u001b[0m\n\u001b[1;32m    967\u001b[0m       return self._do_call(_prun_fn, self._session, handle, feed_dict,\n",
      "\u001b[0;32m/home/austud/.local/lib/python3.5/site-packages/tensorflow/python/client/session.py\u001b[0m in \u001b[0;36m_do_call\u001b[0;34m(self, fn, *args)\u001b[0m\n\u001b[1;32m    970\u001b[0m   \u001b[0;32mdef\u001b[0m \u001b[0m_do_call\u001b[0m\u001b[0;34m(\u001b[0m\u001b[0mself\u001b[0m\u001b[0;34m,\u001b[0m \u001b[0mfn\u001b[0m\u001b[0;34m,\u001b[0m \u001b[0;34m*\u001b[0m\u001b[0margs\u001b[0m\u001b[0;34m)\u001b[0m\u001b[0;34m:\u001b[0m\u001b[0;34m\u001b[0m\u001b[0m\n\u001b[1;32m    971\u001b[0m     \u001b[0;32mtry\u001b[0m\u001b[0;34m:\u001b[0m\u001b[0;34m\u001b[0m\u001b[0m\n\u001b[0;32m--> 972\u001b[0;31m       \u001b[0;32mreturn\u001b[0m \u001b[0mfn\u001b[0m\u001b[0;34m(\u001b[0m\u001b[0;34m*\u001b[0m\u001b[0margs\u001b[0m\u001b[0;34m)\u001b[0m\u001b[0;34m\u001b[0m\u001b[0m\n\u001b[0m\u001b[1;32m    973\u001b[0m     \u001b[0;32mexcept\u001b[0m \u001b[0merrors\u001b[0m\u001b[0;34m.\u001b[0m\u001b[0mOpError\u001b[0m \u001b[0;32mas\u001b[0m \u001b[0me\u001b[0m\u001b[0;34m:\u001b[0m\u001b[0;34m\u001b[0m\u001b[0m\n\u001b[1;32m    974\u001b[0m       \u001b[0mmessage\u001b[0m \u001b[0;34m=\u001b[0m \u001b[0mcompat\u001b[0m\u001b[0;34m.\u001b[0m\u001b[0mas_text\u001b[0m\u001b[0;34m(\u001b[0m\u001b[0me\u001b[0m\u001b[0;34m.\u001b[0m\u001b[0mmessage\u001b[0m\u001b[0;34m)\u001b[0m\u001b[0;34m\u001b[0m\u001b[0m\n",
      "\u001b[0;32m/home/austud/.local/lib/python3.5/site-packages/tensorflow/python/client/session.py\u001b[0m in \u001b[0;36m_run_fn\u001b[0;34m(session, feed_dict, fetch_list, target_list, options, run_metadata)\u001b[0m\n\u001b[1;32m    952\u001b[0m         return tf_session.TF_Run(session, options,\n\u001b[1;32m    953\u001b[0m                                  \u001b[0mfeed_dict\u001b[0m\u001b[0;34m,\u001b[0m \u001b[0mfetch_list\u001b[0m\u001b[0;34m,\u001b[0m \u001b[0mtarget_list\u001b[0m\u001b[0;34m,\u001b[0m\u001b[0;34m\u001b[0m\u001b[0m\n\u001b[0;32m--> 954\u001b[0;31m                                  status, run_metadata)\n\u001b[0m\u001b[1;32m    955\u001b[0m \u001b[0;34m\u001b[0m\u001b[0m\n\u001b[1;32m    956\u001b[0m     \u001b[0;32mdef\u001b[0m \u001b[0m_prun_fn\u001b[0m\u001b[0;34m(\u001b[0m\u001b[0msession\u001b[0m\u001b[0;34m,\u001b[0m \u001b[0mhandle\u001b[0m\u001b[0;34m,\u001b[0m \u001b[0mfeed_dict\u001b[0m\u001b[0;34m,\u001b[0m \u001b[0mfetch_list\u001b[0m\u001b[0;34m)\u001b[0m\u001b[0;34m:\u001b[0m\u001b[0;34m\u001b[0m\u001b[0m\n",
      "\u001b[0;31mKeyboardInterrupt\u001b[0m: "
     ]
    }
   ],
   "source": [
    "train_loop(40)"
   ]
  }
 ],
 "metadata": {
  "anaconda-cloud": {},
  "kernelspec": {
   "display_name": "Python [default]",
   "language": "python",
   "name": "python3"
  },
  "language_info": {
   "codemirror_mode": {
    "name": "ipython",
    "version": 3
   },
   "file_extension": ".py",
   "mimetype": "text/x-python",
   "name": "python",
   "nbconvert_exporter": "python",
   "pygments_lexer": "ipython3",
   "version": "3.5.2"
  }
 },
 "nbformat": 4,
 "nbformat_minor": 1
}
